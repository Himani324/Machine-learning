{
  "nbformat": 4,
  "nbformat_minor": 0,
  "metadata": {
    "colab": {
      "provenance": [],
      "gpuType": "T4"
    },
    "kernelspec": {
      "name": "python3",
      "display_name": "Python 3"
    },
    "language_info": {
      "name": "python"
    },
    "gpuClass": "standard"
  },
  "cells": [
    {
      "cell_type": "code",
      "source": [
        "!pip install sklearn_relief"
      ],
      "metadata": {
        "colab": {
          "base_uri": "https://localhost:8080/"
        },
        "id": "QWDdUUYbt5eQ",
        "outputId": "c203b3d6-6030-4f0d-825e-dc72207f066a"
      },
      "execution_count": 9,
      "outputs": [
        {
          "output_type": "stream",
          "name": "stdout",
          "text": [
            "Looking in indexes: https://pypi.org/simple, https://us-python.pkg.dev/colab-wheels/public/simple/\n",
            "Collecting sklearn_relief\n",
            "  Downloading sklearn_relief-1.0.0b2-py3-none-any.whl (8.7 kB)\n",
            "Requirement already satisfied: numpy>=1.13.3 in /usr/local/lib/python3.10/dist-packages (from sklearn_relief) (1.22.4)\n",
            "Requirement already satisfied: scipy>=1.0.0 in /usr/local/lib/python3.10/dist-packages (from sklearn_relief) (1.10.1)\n",
            "Requirement already satisfied: scikit-learn>=0.19.1 in /usr/local/lib/python3.10/dist-packages (from sklearn_relief) (1.2.2)\n",
            "Requirement already satisfied: joblib>=1.1.1 in /usr/local/lib/python3.10/dist-packages (from scikit-learn>=0.19.1->sklearn_relief) (1.2.0)\n",
            "Requirement already satisfied: threadpoolctl>=2.0.0 in /usr/local/lib/python3.10/dist-packages (from scikit-learn>=0.19.1->sklearn_relief) (3.1.0)\n",
            "Installing collected packages: sklearn_relief\n",
            "Successfully installed sklearn_relief-1.0.0b2\n"
          ]
        }
      ]
    },
    {
      "cell_type": "code",
      "source": [
        "# !pip install fuzzy-c-means"
      ],
      "metadata": {
        "id": "aDvSo_k6sblr"
      },
      "execution_count": 2,
      "outputs": []
    },
    {
      "cell_type": "code",
      "execution_count": 1,
      "metadata": {
        "id": "Nzas8jUdsJDd"
      },
      "outputs": [],
      "source": [
        "import os\n",
        "import pandas as pd\n",
        "import numpy as np\n",
        "import matplotlib.pyplot as plt\n",
        "import sys\n",
        "import joblib\n",
        "sys.modules['sklearn.externals.joblib'] = joblib\n",
        "\n",
        "from sklearn.model_selection import train_test_split, StratifiedKFold, KFold, GridSearchCV\n",
        "from sklearn.metrics import confusion_matrix, ConfusionMatrixDisplay, classification_report, accuracy_score, auc, roc_auc_score, roc_curve\n",
        "\n",
        "from sklearn.preprocessing import OrdinalEncoder\n",
        "from sklearn.preprocessing import label_binarize\n",
        "from sklearn.preprocessing import LabelEncoder\n",
        "\n",
        "from sklearn import metrics\n",
        "from sklearn.svm import SVC\n",
        "from sklearn.cluster import KMeans\n",
        "\n",
        "from google.colab import drive\n",
        "from itertools import cycle"
      ]
    },
    {
      "cell_type": "code",
      "source": [
        "drive.mount('/content/drive', force_remount=True)\n",
        "location ='drive/MyDrive/ML-Dataset/final/'\n",
        "list_of_files = os.listdir(location)"
      ],
      "metadata": {
        "colab": {
          "base_uri": "https://localhost:8080/"
        },
        "id": "ZaxntkAUsnah",
        "outputId": "8c153d82-71eb-45b3-aeb9-16c7b98bf9b2"
      },
      "execution_count": 2,
      "outputs": [
        {
          "output_type": "stream",
          "name": "stdout",
          "text": [
            "Mounted at /content/drive\n"
          ]
        }
      ]
    },
    {
      "cell_type": "code",
      "source": [
        "df= pd.read_csv(location+'bank-database.csv', sep = ',')\n",
        "df"
      ],
      "metadata": {
        "colab": {
          "base_uri": "https://localhost:8080/",
          "height": 487
        },
        "id": "iavQ1OXjso-6",
        "outputId": "10c41709-bf57-481e-b4f7-4e40f8c3bd26"
      },
      "execution_count": 3,
      "outputs": [
        {
          "output_type": "execute_result",
          "data": {
            "text/plain": [
              "       age          job  marital            education  default housing loan  \\\n",
              "0       56    housemaid  married             basic.4y       no      no   no   \n",
              "1       57     services  married          high.school  unknown      no   no   \n",
              "2       37     services  married          high.school       no     yes   no   \n",
              "3       40       admin.  married             basic.6y       no      no   no   \n",
              "4       56     services  married          high.school       no      no  yes   \n",
              "...    ...          ...      ...                  ...      ...     ...  ...   \n",
              "41183   73      retired  married  professional.course       no     yes   no   \n",
              "41184   46  blue-collar  married  professional.course       no      no   no   \n",
              "41185   56      retired  married    university.degree       no     yes   no   \n",
              "41186   44   technician  married  professional.course       no      no   no   \n",
              "41187   74      retired  married  professional.course       no     yes   no   \n",
              "\n",
              "         contact month day_of_week  ...  campaign  pdays  previous  \\\n",
              "0      telephone   may         mon  ...         1    999         0   \n",
              "1      telephone   may         mon  ...         1    999         0   \n",
              "2      telephone   may         mon  ...         1    999         0   \n",
              "3      telephone   may         mon  ...         1    999         0   \n",
              "4      telephone   may         mon  ...         1    999         0   \n",
              "...          ...   ...         ...  ...       ...    ...       ...   \n",
              "41183   cellular   nov         fri  ...         1    999         0   \n",
              "41184   cellular   nov         fri  ...         1    999         0   \n",
              "41185   cellular   nov         fri  ...         2    999         0   \n",
              "41186   cellular   nov         fri  ...         1    999         0   \n",
              "41187   cellular   nov         fri  ...         3    999         1   \n",
              "\n",
              "          poutcome emp.var.rate  cons.price.idx  cons.conf.idx  euribor3m  \\\n",
              "0      nonexistent          1.1          93.994          -36.4      4.857   \n",
              "1      nonexistent          1.1          93.994          -36.4      4.857   \n",
              "2      nonexistent          1.1          93.994          -36.4      4.857   \n",
              "3      nonexistent          1.1          93.994          -36.4      4.857   \n",
              "4      nonexistent          1.1          93.994          -36.4      4.857   \n",
              "...            ...          ...             ...            ...        ...   \n",
              "41183  nonexistent         -1.1          94.767          -50.8      1.028   \n",
              "41184  nonexistent         -1.1          94.767          -50.8      1.028   \n",
              "41185  nonexistent         -1.1          94.767          -50.8      1.028   \n",
              "41186  nonexistent         -1.1          94.767          -50.8      1.028   \n",
              "41187      failure         -1.1          94.767          -50.8      1.028   \n",
              "\n",
              "       nr.employed    y  \n",
              "0           5191.0   no  \n",
              "1           5191.0   no  \n",
              "2           5191.0   no  \n",
              "3           5191.0   no  \n",
              "4           5191.0   no  \n",
              "...            ...  ...  \n",
              "41183       4963.6  yes  \n",
              "41184       4963.6   no  \n",
              "41185       4963.6   no  \n",
              "41186       4963.6  yes  \n",
              "41187       4963.6   no  \n",
              "\n",
              "[41188 rows x 21 columns]"
            ],
            "text/html": [
              "\n",
              "  <div id=\"df-8ddc5135-0be6-48d0-8a56-73bcf0ee00cb\">\n",
              "    <div class=\"colab-df-container\">\n",
              "      <div>\n",
              "<style scoped>\n",
              "    .dataframe tbody tr th:only-of-type {\n",
              "        vertical-align: middle;\n",
              "    }\n",
              "\n",
              "    .dataframe tbody tr th {\n",
              "        vertical-align: top;\n",
              "    }\n",
              "\n",
              "    .dataframe thead th {\n",
              "        text-align: right;\n",
              "    }\n",
              "</style>\n",
              "<table border=\"1\" class=\"dataframe\">\n",
              "  <thead>\n",
              "    <tr style=\"text-align: right;\">\n",
              "      <th></th>\n",
              "      <th>age</th>\n",
              "      <th>job</th>\n",
              "      <th>marital</th>\n",
              "      <th>education</th>\n",
              "      <th>default</th>\n",
              "      <th>housing</th>\n",
              "      <th>loan</th>\n",
              "      <th>contact</th>\n",
              "      <th>month</th>\n",
              "      <th>day_of_week</th>\n",
              "      <th>...</th>\n",
              "      <th>campaign</th>\n",
              "      <th>pdays</th>\n",
              "      <th>previous</th>\n",
              "      <th>poutcome</th>\n",
              "      <th>emp.var.rate</th>\n",
              "      <th>cons.price.idx</th>\n",
              "      <th>cons.conf.idx</th>\n",
              "      <th>euribor3m</th>\n",
              "      <th>nr.employed</th>\n",
              "      <th>y</th>\n",
              "    </tr>\n",
              "  </thead>\n",
              "  <tbody>\n",
              "    <tr>\n",
              "      <th>0</th>\n",
              "      <td>56</td>\n",
              "      <td>housemaid</td>\n",
              "      <td>married</td>\n",
              "      <td>basic.4y</td>\n",
              "      <td>no</td>\n",
              "      <td>no</td>\n",
              "      <td>no</td>\n",
              "      <td>telephone</td>\n",
              "      <td>may</td>\n",
              "      <td>mon</td>\n",
              "      <td>...</td>\n",
              "      <td>1</td>\n",
              "      <td>999</td>\n",
              "      <td>0</td>\n",
              "      <td>nonexistent</td>\n",
              "      <td>1.1</td>\n",
              "      <td>93.994</td>\n",
              "      <td>-36.4</td>\n",
              "      <td>4.857</td>\n",
              "      <td>5191.0</td>\n",
              "      <td>no</td>\n",
              "    </tr>\n",
              "    <tr>\n",
              "      <th>1</th>\n",
              "      <td>57</td>\n",
              "      <td>services</td>\n",
              "      <td>married</td>\n",
              "      <td>high.school</td>\n",
              "      <td>unknown</td>\n",
              "      <td>no</td>\n",
              "      <td>no</td>\n",
              "      <td>telephone</td>\n",
              "      <td>may</td>\n",
              "      <td>mon</td>\n",
              "      <td>...</td>\n",
              "      <td>1</td>\n",
              "      <td>999</td>\n",
              "      <td>0</td>\n",
              "      <td>nonexistent</td>\n",
              "      <td>1.1</td>\n",
              "      <td>93.994</td>\n",
              "      <td>-36.4</td>\n",
              "      <td>4.857</td>\n",
              "      <td>5191.0</td>\n",
              "      <td>no</td>\n",
              "    </tr>\n",
              "    <tr>\n",
              "      <th>2</th>\n",
              "      <td>37</td>\n",
              "      <td>services</td>\n",
              "      <td>married</td>\n",
              "      <td>high.school</td>\n",
              "      <td>no</td>\n",
              "      <td>yes</td>\n",
              "      <td>no</td>\n",
              "      <td>telephone</td>\n",
              "      <td>may</td>\n",
              "      <td>mon</td>\n",
              "      <td>...</td>\n",
              "      <td>1</td>\n",
              "      <td>999</td>\n",
              "      <td>0</td>\n",
              "      <td>nonexistent</td>\n",
              "      <td>1.1</td>\n",
              "      <td>93.994</td>\n",
              "      <td>-36.4</td>\n",
              "      <td>4.857</td>\n",
              "      <td>5191.0</td>\n",
              "      <td>no</td>\n",
              "    </tr>\n",
              "    <tr>\n",
              "      <th>3</th>\n",
              "      <td>40</td>\n",
              "      <td>admin.</td>\n",
              "      <td>married</td>\n",
              "      <td>basic.6y</td>\n",
              "      <td>no</td>\n",
              "      <td>no</td>\n",
              "      <td>no</td>\n",
              "      <td>telephone</td>\n",
              "      <td>may</td>\n",
              "      <td>mon</td>\n",
              "      <td>...</td>\n",
              "      <td>1</td>\n",
              "      <td>999</td>\n",
              "      <td>0</td>\n",
              "      <td>nonexistent</td>\n",
              "      <td>1.1</td>\n",
              "      <td>93.994</td>\n",
              "      <td>-36.4</td>\n",
              "      <td>4.857</td>\n",
              "      <td>5191.0</td>\n",
              "      <td>no</td>\n",
              "    </tr>\n",
              "    <tr>\n",
              "      <th>4</th>\n",
              "      <td>56</td>\n",
              "      <td>services</td>\n",
              "      <td>married</td>\n",
              "      <td>high.school</td>\n",
              "      <td>no</td>\n",
              "      <td>no</td>\n",
              "      <td>yes</td>\n",
              "      <td>telephone</td>\n",
              "      <td>may</td>\n",
              "      <td>mon</td>\n",
              "      <td>...</td>\n",
              "      <td>1</td>\n",
              "      <td>999</td>\n",
              "      <td>0</td>\n",
              "      <td>nonexistent</td>\n",
              "      <td>1.1</td>\n",
              "      <td>93.994</td>\n",
              "      <td>-36.4</td>\n",
              "      <td>4.857</td>\n",
              "      <td>5191.0</td>\n",
              "      <td>no</td>\n",
              "    </tr>\n",
              "    <tr>\n",
              "      <th>...</th>\n",
              "      <td>...</td>\n",
              "      <td>...</td>\n",
              "      <td>...</td>\n",
              "      <td>...</td>\n",
              "      <td>...</td>\n",
              "      <td>...</td>\n",
              "      <td>...</td>\n",
              "      <td>...</td>\n",
              "      <td>...</td>\n",
              "      <td>...</td>\n",
              "      <td>...</td>\n",
              "      <td>...</td>\n",
              "      <td>...</td>\n",
              "      <td>...</td>\n",
              "      <td>...</td>\n",
              "      <td>...</td>\n",
              "      <td>...</td>\n",
              "      <td>...</td>\n",
              "      <td>...</td>\n",
              "      <td>...</td>\n",
              "      <td>...</td>\n",
              "    </tr>\n",
              "    <tr>\n",
              "      <th>41183</th>\n",
              "      <td>73</td>\n",
              "      <td>retired</td>\n",
              "      <td>married</td>\n",
              "      <td>professional.course</td>\n",
              "      <td>no</td>\n",
              "      <td>yes</td>\n",
              "      <td>no</td>\n",
              "      <td>cellular</td>\n",
              "      <td>nov</td>\n",
              "      <td>fri</td>\n",
              "      <td>...</td>\n",
              "      <td>1</td>\n",
              "      <td>999</td>\n",
              "      <td>0</td>\n",
              "      <td>nonexistent</td>\n",
              "      <td>-1.1</td>\n",
              "      <td>94.767</td>\n",
              "      <td>-50.8</td>\n",
              "      <td>1.028</td>\n",
              "      <td>4963.6</td>\n",
              "      <td>yes</td>\n",
              "    </tr>\n",
              "    <tr>\n",
              "      <th>41184</th>\n",
              "      <td>46</td>\n",
              "      <td>blue-collar</td>\n",
              "      <td>married</td>\n",
              "      <td>professional.course</td>\n",
              "      <td>no</td>\n",
              "      <td>no</td>\n",
              "      <td>no</td>\n",
              "      <td>cellular</td>\n",
              "      <td>nov</td>\n",
              "      <td>fri</td>\n",
              "      <td>...</td>\n",
              "      <td>1</td>\n",
              "      <td>999</td>\n",
              "      <td>0</td>\n",
              "      <td>nonexistent</td>\n",
              "      <td>-1.1</td>\n",
              "      <td>94.767</td>\n",
              "      <td>-50.8</td>\n",
              "      <td>1.028</td>\n",
              "      <td>4963.6</td>\n",
              "      <td>no</td>\n",
              "    </tr>\n",
              "    <tr>\n",
              "      <th>41185</th>\n",
              "      <td>56</td>\n",
              "      <td>retired</td>\n",
              "      <td>married</td>\n",
              "      <td>university.degree</td>\n",
              "      <td>no</td>\n",
              "      <td>yes</td>\n",
              "      <td>no</td>\n",
              "      <td>cellular</td>\n",
              "      <td>nov</td>\n",
              "      <td>fri</td>\n",
              "      <td>...</td>\n",
              "      <td>2</td>\n",
              "      <td>999</td>\n",
              "      <td>0</td>\n",
              "      <td>nonexistent</td>\n",
              "      <td>-1.1</td>\n",
              "      <td>94.767</td>\n",
              "      <td>-50.8</td>\n",
              "      <td>1.028</td>\n",
              "      <td>4963.6</td>\n",
              "      <td>no</td>\n",
              "    </tr>\n",
              "    <tr>\n",
              "      <th>41186</th>\n",
              "      <td>44</td>\n",
              "      <td>technician</td>\n",
              "      <td>married</td>\n",
              "      <td>professional.course</td>\n",
              "      <td>no</td>\n",
              "      <td>no</td>\n",
              "      <td>no</td>\n",
              "      <td>cellular</td>\n",
              "      <td>nov</td>\n",
              "      <td>fri</td>\n",
              "      <td>...</td>\n",
              "      <td>1</td>\n",
              "      <td>999</td>\n",
              "      <td>0</td>\n",
              "      <td>nonexistent</td>\n",
              "      <td>-1.1</td>\n",
              "      <td>94.767</td>\n",
              "      <td>-50.8</td>\n",
              "      <td>1.028</td>\n",
              "      <td>4963.6</td>\n",
              "      <td>yes</td>\n",
              "    </tr>\n",
              "    <tr>\n",
              "      <th>41187</th>\n",
              "      <td>74</td>\n",
              "      <td>retired</td>\n",
              "      <td>married</td>\n",
              "      <td>professional.course</td>\n",
              "      <td>no</td>\n",
              "      <td>yes</td>\n",
              "      <td>no</td>\n",
              "      <td>cellular</td>\n",
              "      <td>nov</td>\n",
              "      <td>fri</td>\n",
              "      <td>...</td>\n",
              "      <td>3</td>\n",
              "      <td>999</td>\n",
              "      <td>1</td>\n",
              "      <td>failure</td>\n",
              "      <td>-1.1</td>\n",
              "      <td>94.767</td>\n",
              "      <td>-50.8</td>\n",
              "      <td>1.028</td>\n",
              "      <td>4963.6</td>\n",
              "      <td>no</td>\n",
              "    </tr>\n",
              "  </tbody>\n",
              "</table>\n",
              "<p>41188 rows × 21 columns</p>\n",
              "</div>\n",
              "      <button class=\"colab-df-convert\" onclick=\"convertToInteractive('df-8ddc5135-0be6-48d0-8a56-73bcf0ee00cb')\"\n",
              "              title=\"Convert this dataframe to an interactive table.\"\n",
              "              style=\"display:none;\">\n",
              "        \n",
              "  <svg xmlns=\"http://www.w3.org/2000/svg\" height=\"24px\"viewBox=\"0 0 24 24\"\n",
              "       width=\"24px\">\n",
              "    <path d=\"M0 0h24v24H0V0z\" fill=\"none\"/>\n",
              "    <path d=\"M18.56 5.44l.94 2.06.94-2.06 2.06-.94-2.06-.94-.94-2.06-.94 2.06-2.06.94zm-11 1L8.5 8.5l.94-2.06 2.06-.94-2.06-.94L8.5 2.5l-.94 2.06-2.06.94zm10 10l.94 2.06.94-2.06 2.06-.94-2.06-.94-.94-2.06-.94 2.06-2.06.94z\"/><path d=\"M17.41 7.96l-1.37-1.37c-.4-.4-.92-.59-1.43-.59-.52 0-1.04.2-1.43.59L10.3 9.45l-7.72 7.72c-.78.78-.78 2.05 0 2.83L4 21.41c.39.39.9.59 1.41.59.51 0 1.02-.2 1.41-.59l7.78-7.78 2.81-2.81c.8-.78.8-2.07 0-2.86zM5.41 20L4 18.59l7.72-7.72 1.47 1.35L5.41 20z\"/>\n",
              "  </svg>\n",
              "      </button>\n",
              "      \n",
              "  <style>\n",
              "    .colab-df-container {\n",
              "      display:flex;\n",
              "      flex-wrap:wrap;\n",
              "      gap: 12px;\n",
              "    }\n",
              "\n",
              "    .colab-df-convert {\n",
              "      background-color: #E8F0FE;\n",
              "      border: none;\n",
              "      border-radius: 50%;\n",
              "      cursor: pointer;\n",
              "      display: none;\n",
              "      fill: #1967D2;\n",
              "      height: 32px;\n",
              "      padding: 0 0 0 0;\n",
              "      width: 32px;\n",
              "    }\n",
              "\n",
              "    .colab-df-convert:hover {\n",
              "      background-color: #E2EBFA;\n",
              "      box-shadow: 0px 1px 2px rgba(60, 64, 67, 0.3), 0px 1px 3px 1px rgba(60, 64, 67, 0.15);\n",
              "      fill: #174EA6;\n",
              "    }\n",
              "\n",
              "    [theme=dark] .colab-df-convert {\n",
              "      background-color: #3B4455;\n",
              "      fill: #D2E3FC;\n",
              "    }\n",
              "\n",
              "    [theme=dark] .colab-df-convert:hover {\n",
              "      background-color: #434B5C;\n",
              "      box-shadow: 0px 1px 3px 1px rgba(0, 0, 0, 0.15);\n",
              "      filter: drop-shadow(0px 1px 2px rgba(0, 0, 0, 0.3));\n",
              "      fill: #FFFFFF;\n",
              "    }\n",
              "  </style>\n",
              "\n",
              "      <script>\n",
              "        const buttonEl =\n",
              "          document.querySelector('#df-8ddc5135-0be6-48d0-8a56-73bcf0ee00cb button.colab-df-convert');\n",
              "        buttonEl.style.display =\n",
              "          google.colab.kernel.accessAllowed ? 'block' : 'none';\n",
              "\n",
              "        async function convertToInteractive(key) {\n",
              "          const element = document.querySelector('#df-8ddc5135-0be6-48d0-8a56-73bcf0ee00cb');\n",
              "          const dataTable =\n",
              "            await google.colab.kernel.invokeFunction('convertToInteractive',\n",
              "                                                     [key], {});\n",
              "          if (!dataTable) return;\n",
              "\n",
              "          const docLinkHtml = 'Like what you see? Visit the ' +\n",
              "            '<a target=\"_blank\" href=https://colab.research.google.com/notebooks/data_table.ipynb>data table notebook</a>'\n",
              "            + ' to learn more about interactive tables.';\n",
              "          element.innerHTML = '';\n",
              "          dataTable['output_type'] = 'display_data';\n",
              "          await google.colab.output.renderOutput(dataTable, element);\n",
              "          const docLink = document.createElement('div');\n",
              "          docLink.innerHTML = docLinkHtml;\n",
              "          element.appendChild(docLink);\n",
              "        }\n",
              "      </script>\n",
              "    </div>\n",
              "  </div>\n",
              "  "
            ]
          },
          "metadata": {},
          "execution_count": 3
        }
      ]
    },
    {
      "cell_type": "code",
      "source": [
        "df = df.drop([\"duration\"],axis=1)\n",
        "\n",
        "df['job'].replace(['admin.', 'blue-collar', 'entrepreneur', 'housemaid', 'management', 'retired', 'self-employed', 'services', 'student', 'technician', 'unemployed', 'unknown'],\n",
        "                        [0, 1, 2, 3, 4 ,5 ,6 ,7 ,8 ,9 ,1, 11], inplace=True)\n",
        "df['marital'].replace(['divorced', 'married', 'single', 'unknown'],\n",
        "                        [0, 1, 2, 3], inplace=True)\n",
        "df['education'].replace(['basic.4y', 'basic.6y', 'basic.9y','high.school', 'illiterate', 'professional.course' , 'university.degree', 'unknown'],\n",
        "                        [0, 1, 2, 3, 4, 5 ,6, 7], inplace=True)\n",
        "df['default'].replace(['no', 'yes', 'unknown'],\n",
        "                        [0, 1, 2], inplace=True)\n",
        "df['housing'].replace(['no', 'yes', 'unknown'],\n",
        "                        [0, 1, 2], inplace=True)\n",
        "df['loan'].replace(['no', 'yes', 'unknown'],\n",
        "                        [0, 1, 2], inplace=True)\n",
        "df['contact'].replace(['cellular', 'telephone'],\n",
        "                        [0, 1], inplace=True)\n",
        "df['month'].replace(['jan', 'feb',  'mar', 'apr', 'may', 'jun', 'jul', 'aug', 'sep', 'oct', 'nov', 'dec'],\n",
        "                        [0,1,2,3,4,5,6,7,8,9,10,11], inplace=True)\n",
        "df['day_of_week'].replace(['mon', 'tue', 'wed', 'thu', 'fri'],\n",
        "                        [0,1,2,3,4], inplace=True)\n",
        "df['poutcome'].replace(['failure', 'nonexistent',  'success'],\n",
        "                        [0,1,2], inplace=True)\n",
        "df['y'].replace(['no', 'yes'],\n",
        "                        [0, 1], inplace=True)\n",
        "\n",
        "df\n",
        "print(df.columns)"
      ],
      "metadata": {
        "colab": {
          "base_uri": "https://localhost:8080/"
        },
        "id": "KmK3fKYkFsLd",
        "outputId": "77b82190-b6c1-400a-c2c1-0ed75a606df2"
      },
      "execution_count": 4,
      "outputs": [
        {
          "output_type": "stream",
          "name": "stdout",
          "text": [
            "Index(['age', 'job', 'marital', 'education', 'default', 'housing', 'loan',\n",
            "       'contact', 'month', 'day_of_week', 'campaign', 'pdays', 'previous',\n",
            "       'poutcome', 'emp.var.rate', 'cons.price.idx', 'cons.conf.idx',\n",
            "       'euribor3m', 'nr.employed', 'y'],\n",
            "      dtype='object')\n"
          ]
        }
      ]
    },
    {
      "cell_type": "code",
      "source": [
        "l = df[['y']]\n",
        "m = df.drop('y', axis=1)"
      ],
      "metadata": {
        "id": "zr8r6gx8svHS"
      },
      "execution_count": 5,
      "outputs": []
    },
    {
      "cell_type": "code",
      "source": [
        "y=np.array(df[\"y\"])\n",
        "X=np.array(df.drop('y', axis=1))"
      ],
      "metadata": {
        "id": "1fBXugWUfuvm"
      },
      "execution_count": 6,
      "outputs": []
    },
    {
      "cell_type": "code",
      "source": [
        "# split the data in 80% train-20% test\n",
        "X_train, X_test, y_train, y_test = train_test_split(X, y, test_size = 0.2, train_size = 0.8, stratify=y)"
      ],
      "metadata": {
        "id": "4utFj3tWswxK"
      },
      "execution_count": 7,
      "outputs": []
    },
    {
      "cell_type": "code",
      "source": [],
      "metadata": {
        "id": "4jMrOSz_5jdh"
      },
      "execution_count": 9,
      "outputs": []
    },
    {
      "cell_type": "code",
      "source": [
        "from sklearn_relief import Relief\n",
        "r = Relief(n_features = 19)\n",
        "relief_df = r.fit_transform(X_train, y_train)\n",
        "print(relief_df)\n",
        "print(r.w_)"
      ],
      "metadata": {
        "colab": {
          "base_uri": "https://localhost:8080/"
        },
        "id": "Zr0VmVsVkyJU",
        "outputId": "5d8c51aa-96ce-420c-fd5c-bb412c11bd27"
      },
      "execution_count": 14,
      "outputs": [
        {
          "output_type": "stream",
          "name": "stdout",
          "text": [
            "[[ 3.7000e+01  4.0000e+00  2.0000e+00 ...  9.2893e+01 -1.8000e+00\n",
            "   5.0991e+03]\n",
            " [ 6.4000e+01  4.0000e+00  3.0000e+00 ...  9.4027e+01 -1.7000e+00\n",
            "   4.9916e+03]\n",
            " [ 3.1000e+01  3.0000e+00  8.0000e+00 ...  9.3444e+01  1.4000e+00\n",
            "   5.2281e+03]\n",
            " ...\n",
            " [ 3.9000e+01  3.0000e+00  3.0000e+00 ...  9.3444e+01  1.4000e+00\n",
            "   5.2281e+03]\n",
            " [ 2.7000e+01  2.0000e+00  1.0000e+00 ...  9.4465e+01  1.4000e+00\n",
            "   5.2281e+03]\n",
            " [ 2.5000e+01  4.0000e+00  1.0000e+00 ...  9.4027e+01 -1.7000e+00\n",
            "   4.9916e+03]]\n",
            "[1.09    0.54    0.25    0.57    0.24    0.31    0.2     0.11    0.04\n",
            " 0.78    0.67    0.03    0.07    0.03    0.      0.01442 0.04    0.02109\n",
            " 0.     ]\n"
          ]
        }
      ]
    },
    {
      "cell_type": "code",
      "source": [],
      "metadata": {
        "id": "SXkBvgyvGBiB"
      },
      "execution_count": 10,
      "outputs": []
    },
    {
      "cell_type": "code",
      "source": [
        "#Visualize sorted feature scores\n",
        "names_scores = {'Names':m.columns, 'importance':r.w_} \n",
        "ns = pd.DataFrame(names_scores)\n",
        "ns = ns.sort_values(by='importance')\n",
        "ns\n",
        "\n",
        "ns['importance'].plot(kind='barh',figsize=(4,4))\n",
        "plt.ylabel('Features')\n",
        "plt.xlabel('Best Features')\n",
        "plt.yticks(np.arange(len(m.columns)), ns['Names'])\n",
        "plt.title('Sorted Best Features')"
      ],
      "metadata": {
        "colab": {
          "base_uri": "https://localhost:8080/",
          "height": 428
        },
        "id": "1K2VhtCwrdam",
        "outputId": "297d7ce5-d646-4574-cc7f-4fed7fed14b5"
      },
      "execution_count": 15,
      "outputs": [
        {
          "output_type": "execute_result",
          "data": {
            "text/plain": [
              "Text(0.5, 1.0, 'Sorted Best Features')"
            ]
          },
          "metadata": {},
          "execution_count": 15
        },
        {
          "output_type": "display_data",
          "data": {
            "text/plain": [
              "<Figure size 400x400 with 1 Axes>"
            ],
            "image/png": "[encoded data removed]"
          },
          "metadata": {}
        }
      ]
    },
    {
      "cell_type": "code",
      "source": [
        "s = np.array(ns['Names'])\n",
        "b = np.flip(s)\n",
        "print(b)"
      ],
      "metadata": {
        "colab": {
          "base_uri": "https://localhost:8080/"
        },
        "id": "v1tndW2QJdO1",
        "outputId": "58a24323-4bf0-4565-cbe3-a6878133afd3"
      },
      "execution_count": 16,
      "outputs": [
        {
          "output_type": "stream",
          "name": "stdout",
          "text": [
            "['age' 'day_of_week' 'campaign' 'education' 'job' 'housing' 'marital'\n",
            " 'default' 'loan' 'contact' 'previous' 'cons.conf.idx' 'month' 'pdays'\n",
            " 'poutcome' 'euribor3m' 'cons.price.idx' 'emp.var.rate' 'nr.employed']\n"
          ]
        }
      ]
    },
    {
      "cell_type": "code",
      "source": [
        "idx_dic = {}\n",
        "for col in df.columns:\n",
        "    idx_dic[col] = df.columns.get_loc(col)\n",
        "print(idx_dic)"
      ],
      "metadata": {
        "colab": {
          "base_uri": "https://localhost:8080/"
        },
        "id": "oOgWCGh3Civ3",
        "outputId": "22490b06-a3ef-488b-83d8-e28c2cc80299"
      },
      "execution_count": 17,
      "outputs": [
        {
          "output_type": "stream",
          "name": "stdout",
          "text": [
            "{'age': 0, 'job': 1, 'marital': 2, 'education': 3, 'default': 4, 'housing': 5, 'loan': 6, 'contact': 7, 'month': 8, 'day_of_week': 9, 'campaign': 10, 'pdays': 11, 'previous': 12, 'poutcome': 13, 'emp.var.rate': 14, 'cons.price.idx': 15, 'cons.conf.idx': 16, 'euribor3m': 17, 'nr.employed': 18, 'y': 19}\n"
          ]
        }
      ]
    },
    {
      "cell_type": "code",
      "source": [
        "cols_index = [df.columns.get_loc(col) for col in b]\n",
        "print(cols_index)\n",
        "\n",
        "X_test = X_test[:,cols_index]\n",
        "X_test"
      ],
      "metadata": {
        "colab": {
          "base_uri": "https://localhost:8080/"
        },
        "id": "JVVUKHlQ3j2C",
        "outputId": "53302dea-0cdb-4d6e-a67e-7202afe29b4a"
      },
      "execution_count": 18,
      "outputs": [
        {
          "output_type": "stream",
          "name": "stdout",
          "text": [
            "[0, 9, 10, 3, 1, 5, 2, 4, 6, 7, 12, 16, 8, 11, 13, 17, 15, 14, 18]\n"
          ]
        },
        {
          "output_type": "execute_result",
          "data": {
            "text/plain": [
              "array([[ 4.9000e+01,  2.0000e+00,  2.0000e+00, ...,  9.3918e+01,\n",
              "         1.4000e+00,  5.2281e+03],\n",
              "       [ 4.2000e+01,  0.0000e+00,  1.0000e+00, ...,  9.2893e+01,\n",
              "        -1.8000e+00,  5.0991e+03],\n",
              "       [ 5.3000e+01,  2.0000e+00,  2.0000e+00, ...,  9.3994e+01,\n",
              "         1.1000e+00,  5.1910e+03],\n",
              "       ...,\n",
              "       [ 2.7000e+01,  0.0000e+00,  4.0000e+00, ...,  9.2893e+01,\n",
              "        -1.8000e+00,  5.0991e+03],\n",
              "       [ 3.6000e+01,  4.0000e+00,  1.0000e+00, ...,  9.3075e+01,\n",
              "        -1.8000e+00,  5.0991e+03],\n",
              "       [ 3.0000e+01,  2.0000e+00,  1.0000e+00, ...,  9.3444e+01,\n",
              "         1.4000e+00,  5.2281e+03]])"
            ]
          },
          "metadata": {},
          "execution_count": 18
        }
      ]
    },
    {
      "cell_type": "code",
      "source": [
        "def f_performance(classifier): \n",
        "  max_accuracy_features = max(classifier, key=classifier.get)\n",
        "  print(\"No of feaures which gives best Accuracy\", max_accuracy_features)\n",
        "  print(\"Best Accuracy using selected features\", classifier[max_accuracy_features])\n",
        "  conf = matrix.get(max_accuracy_features)\n",
        "  plt.rcParams.update({'figure.figsize':(4,4), 'figure.dpi':80})\n",
        "\n",
        "  # confusion matrix\n",
        "  disp = ConfusionMatrixDisplay(confusion_matrix=conf)\n",
        "  disp.plot()\n",
        "  plt.show()\n",
        "\n",
        "  # Performance - Sensitivity, Specificity, F1_score, Precision\n",
        "  tn, fp, fn, tp = conf.ravel()\n",
        "\n",
        "  spec = tn / (tn + fp)\n",
        "  print(\"Specificity: \", spec)\n",
        "\n",
        "  sens = tp / (tp + fn)\n",
        "  print(\"Sensitivity\", sens)\n",
        "\n",
        "  PPV = tp/(tp+fp)\n",
        "  print(\"Precision\", PPV)\n",
        "\n",
        "  f1_score = (2*PPV*sens)/(PPV+sens)\n",
        "  print(\"F1_score\",f1_score)\n",
        "\n",
        "  print(AUC.get(max_accuracy_features))"
      ],
      "metadata": {
        "id": "6cNiaSODGOJF"
      },
      "execution_count": 19,
      "outputs": []
    },
    {
      "cell_type": "markdown",
      "source": [
        "SVM"
      ],
      "metadata": {
        "id": "WD3trFJ_2cE2"
      }
    },
    {
      "cell_type": "code",
      "source": [
        "SVM={}\n",
        "matrix = {}\n",
        "AUC = {}\n",
        "model = SVC()\n",
        "for i in range(1, 20):\n",
        "  model.fit(relief_df[:, 0:i], y_train.ravel())\n",
        "  y_pred_X_test= model.predict(X_test[:, 0:i])\n",
        "  accura = accuracy_score(y_test, y_pred_X_test)\n",
        "  SVM[i] = accura\n",
        "  cm = confusion_matrix(y_test, y_pred_X_test)\n",
        "  matrix[i] = cm\n",
        "  auc = metrics.roc_auc_score(y_test, y_pred_X_test)\n",
        "  AUC[i] = auc"
      ],
      "metadata": {
        "id": "l9GoNQXl9J4J"
      },
      "execution_count": 16,
      "outputs": []
    },
    {
      "cell_type": "code",
      "source": [
        "SVM"
      ],
      "metadata": {
        "colab": {
          "base_uri": "https://localhost:8080/"
        },
        "id": "UT_T-Dc92sx6",
        "outputId": "28b15e05-c8d0-410f-fbdc-ac261d3d3547"
      },
      "execution_count": 17,
      "outputs": [
        {
          "output_type": "execute_result",
          "data": {
            "text/plain": [
              "{1: 0.8873512988589464,\n",
              " 2: 0.8874726875455208,\n",
              " 3: 0.8873512988589464,\n",
              " 4: 0.8873512988589464,\n",
              " 5: 0.8873512988589464,\n",
              " 6: 0.8873512988589464,\n",
              " 7: 0.8873512988589464,\n",
              " 8: 0.8873512988589464,\n",
              " 9: 0.8873512988589464,\n",
              " 10: 0.8873512988589464,\n",
              " 11: 0.8873512988589464,\n",
              " 12: 0.8873512988589464,\n",
              " 13: 0.8873512988589464,\n",
              " 14: 0.8975479485311969,\n",
              " 15: 0.8975479485311969,\n",
              " 16: 0.8975479485311969,\n",
              " 17: 0.8975479485311969,\n",
              " 18: 0.8975479485311969,\n",
              " 19: 0.8975479485311969}"
            ]
          },
          "metadata": {},
          "execution_count": 17
        }
      ]
    },
    {
      "cell_type": "code",
      "source": [
        "# Plot number of features VS. cross-validation scores\n",
        "import matplotlib.pyplot as plt\n",
        "m = np.arange(1,20)\n",
        "plt.figure()\n",
        "plt.xlabel(\"Number of features\")\n",
        "plt.ylabel(\"accuracy\")\n",
        "plt.plot(m, SVM.values(), '-ok',)\n",
        "plt.title(\"SVM\")\n",
        "plt.show()"
      ],
      "metadata": {
        "colab": {
          "base_uri": "https://localhost:8080/",
          "height": 472
        },
        "id": "WoY5MLFYH_qK",
        "outputId": "2ea76e57-4dad-4da0-e866-a7c9cd463a04"
      },
      "execution_count": 18,
      "outputs": [
        {
          "output_type": "display_data",
          "data": {
            "text/plain": [
              "<Figure size 640x480 with 1 Axes>"
            ],
            "image/png": "[encoded data removed]"
          },
          "metadata": {}
        }
      ]
    },
    {
      "cell_type": "code",
      "source": [
        "f_performance(SVM)"
      ],
      "metadata": {
        "id": "QJ62Ejj7I6x-",
        "colab": {
          "base_uri": "https://localhost:8080/",
          "height": 413
        },
        "outputId": "2d794ad9-6c7c-4484-c0fe-ca7ca65c985d"
      },
      "execution_count": 19,
      "outputs": [
        {
          "output_type": "stream",
          "name": "stdout",
          "text": [
            "No of feaures which gives best Accuracy 14\n",
            "Best Accuracy using selected features 0.8975479485311969\n"
          ]
        },
        {
          "output_type": "display_data",
          "data": {
            "text/plain": [
              "<Figure size 320x320 with 2 Axes>"
            ],
            "image/png": "[encoded data removed]"
          },
          "metadata": {}
        },
        {
          "output_type": "stream",
          "name": "stdout",
          "text": [
            "Specificity:  0.9845417236662106\n",
            "Sensitivity 0.2122844827586207\n",
            "Precision 0.635483870967742\n",
            "F1_score 0.3182552504038772\n",
            "0.5984131032124157\n"
          ]
        }
      ]
    },
    {
      "cell_type": "code",
      "source": [],
      "metadata": {
        "id": "A5jglzQEN7Ah"
      },
      "execution_count": 19,
      "outputs": []
    },
    {
      "cell_type": "markdown",
      "source": [
        "KMEANS"
      ],
      "metadata": {
        "id": "S1zPAbOITMPH"
      }
    },
    {
      "cell_type": "code",
      "source": [
        "from sklearn.cluster import KMeans\n",
        "KMEANS={}\n",
        "matrix = {}\n",
        "AUC = {}\n",
        "kmeans = KMeans(n_clusters=2, init='k-means++', max_iter=300, n_init=10, random_state=42)\n",
        "for i in range(1, 20):\n",
        "  kmeans.fit(relief_df[:, 0:i], y_train.ravel())\n",
        "  y_pred_X_test= kmeans.predict(X_test[:, 0:i])\n",
        "  accura = accuracy_score(y_test, y_pred_X_test)\n",
        "  KMEANS[i] = accura\n",
        "  cm = confusion_matrix(y_test, y_pred_X_test)\n",
        "  matrix[i] = cm\n",
        "  auc = metrics.roc_auc_score(y_test, y_pred_X_test)\n",
        "  AUC[i] = auc"
      ],
      "metadata": {
        "id": "0KbkVcYEDLQY"
      },
      "execution_count": 20,
      "outputs": []
    },
    {
      "cell_type": "code",
      "source": [
        "KMEANS"
      ],
      "metadata": {
        "colab": {
          "base_uri": "https://localhost:8080/"
        },
        "id": "ahjsad9yNmFK",
        "outputId": "8203876d-8564-4821-fd42-1c80064dd53f"
      },
      "execution_count": 21,
      "outputs": [
        {
          "output_type": "execute_result",
          "data": {
            "text/plain": [
              "{1: 0.8349113862588007,\n",
              " 2: 0.6071862102452051,\n",
              " 3: 0.6071862102452051,\n",
              " 4: 0.6071862102452051,\n",
              " 5: 0.6071862102452051,\n",
              " 6: 0.6071862102452051,\n",
              " 7: 0.6071862102452051,\n",
              " 8: 0.6071862102452051,\n",
              " 9: 0.6071862102452051,\n",
              " 10: 0.6071862102452051,\n",
              " 11: 0.6073075989317795,\n",
              " 12: 0.6073075989317795,\n",
              " 13: 0.6073075989317795,\n",
              " 14: 0.8975479485311969,\n",
              " 15: 0.8975479485311969,\n",
              " 16: 0.8975479485311969,\n",
              " 17: 0.8975479485311969,\n",
              " 18: 0.8975479485311969,\n",
              " 19: 0.8975479485311969}"
            ]
          },
          "metadata": {},
          "execution_count": 21
        }
      ]
    },
    {
      "cell_type": "code",
      "source": [
        "# Plot number of features VS. cross-validation scores\n",
        "import matplotlib.pyplot as plt\n",
        "m = np.arange(1,20)\n",
        "plt.figure()\n",
        "plt.xlabel(\"Number of features\")\n",
        "plt.ylabel(\"accuracy\")\n",
        "plt.plot(m, KMEANS.values(), '-ok',)\n",
        "plt.title(\"KMEANS\")\n",
        "plt.show()"
      ],
      "metadata": {
        "colab": {
          "base_uri": "https://localhost:8080/",
          "height": 328
        },
        "id": "dlj4DRYtNo1y",
        "outputId": "66b8c8b9-a33a-4d1e-c9f9-d2c8e6d2caa3"
      },
      "execution_count": 22,
      "outputs": [
        {
          "output_type": "display_data",
          "data": {
            "text/plain": [
              "<Figure size 320x320 with 1 Axes>"
            ],
            "image/png": "[encoded data removed]"
          },
          "metadata": {}
        }
      ]
    },
    {
      "cell_type": "code",
      "source": [
        "f_performance(KMEANS)"
      ],
      "metadata": {
        "colab": {
          "base_uri": "https://localhost:8080/",
          "height": 413
        },
        "id": "5VUIAe8rOPdZ",
        "outputId": "6d922c73-a244-485b-90a0-ec95137ae90d"
      },
      "execution_count": 23,
      "outputs": [
        {
          "output_type": "stream",
          "name": "stdout",
          "text": [
            "No of feaures which gives best Accuracy 14\n",
            "Best Accuracy using selected features 0.8975479485311969\n"
          ]
        },
        {
          "output_type": "display_data",
          "data": {
            "text/plain": [
              "<Figure size 320x320 with 2 Axes>"
            ],
            "image/png": "[encoded data removed]"
          },
          "metadata": {}
        },
        {
          "output_type": "stream",
          "name": "stdout",
          "text": [
            "Specificity:  0.9845417236662106\n",
            "Sensitivity 0.2122844827586207\n",
            "Precision 0.635483870967742\n",
            "F1_score 0.3182552504038772\n",
            "0.5984131032124157\n"
          ]
        }
      ]
    },
    {
      "cell_type": "markdown",
      "source": [
        "FCM"
      ],
      "metadata": {
        "id": "NGmmE60tTSCN"
      }
    },
    {
      "cell_type": "code",
      "source": [
        "!pip install fuzzy-c-means"
      ],
      "metadata": {
        "colab": {
          "base_uri": "https://localhost:8080/"
        },
        "id": "V9-sCZGWOoty",
        "outputId": "f8969e01-a1dc-4279-afde-d5341ae60e1c"
      },
      "execution_count": 24,
      "outputs": [
        {
          "output_type": "stream",
          "name": "stdout",
          "text": [
            "Looking in indexes: https://pypi.org/simple, https://us-python.pkg.dev/colab-wheels/public/simple/\n",
            "Requirement already satisfied: fuzzy-c-means in /usr/local/lib/python3.10/dist-packages (1.7.0)\n",
            "Requirement already satisfied: joblib<2.0.0,>=1.2.0 in /usr/local/lib/python3.10/dist-packages (from fuzzy-c-means) (1.2.0)\n",
            "Requirement already satisfied: numpy<2.0.0,>=1.21.1 in /usr/local/lib/python3.10/dist-packages (from fuzzy-c-means) (1.22.4)\n",
            "Requirement already satisfied: pydantic<2.0.0,>=1.9.0 in /usr/local/lib/python3.10/dist-packages (from fuzzy-c-means) (1.10.7)\n",
            "Requirement already satisfied: tabulate<0.9.0,>=0.8.9 in /usr/local/lib/python3.10/dist-packages (from fuzzy-c-means) (0.8.10)\n",
            "Requirement already satisfied: tqdm<5.0.0,>=4.64.1 in /usr/local/lib/python3.10/dist-packages (from fuzzy-c-means) (4.65.0)\n",
            "Requirement already satisfied: typer<0.5.0,>=0.4.0 in /usr/local/lib/python3.10/dist-packages (from fuzzy-c-means) (0.4.2)\n",
            "Requirement already satisfied: typing-extensions>=4.2.0 in /usr/local/lib/python3.10/dist-packages (from pydantic<2.0.0,>=1.9.0->fuzzy-c-means) (4.5.0)\n",
            "Requirement already satisfied: click<9.0.0,>=7.1.1 in /usr/local/lib/python3.10/dist-packages (from typer<0.5.0,>=0.4.0->fuzzy-c-means) (8.1.3)\n"
          ]
        }
      ]
    },
    {
      "cell_type": "code",
      "source": [
        "from fcmeans import FCM\n",
        "fcmModel = FCM(n_clusters=2, random_state=1)\n",
        "FCMEANS={}\n",
        "matrix = {}\n",
        "AUC = {}\n",
        "for i in range(1, 20):\n",
        "  fcmModel.fit(relief_df[:, 0:i])\n",
        "  y_pred_X_test= fcmModel.predict(X_test[:, 0:i])\n",
        "  accura = accuracy_score(y_test, y_pred_X_test)\n",
        "  FCMEANS[i] = accura\n",
        "  cm = confusion_matrix(y_test, y_pred_X_test)\n",
        "  matrix[i] = cm\n",
        "  auc = metrics.roc_auc_score(y_test, y_pred_X_test)\n",
        "  AUC[i] = auc"
      ],
      "metadata": {
        "id": "AEw2p05nOzyS"
      },
      "execution_count": 25,
      "outputs": []
    },
    {
      "cell_type": "code",
      "source": [
        "FCMEANS"
      ],
      "metadata": {
        "colab": {
          "base_uri": "https://localhost:8080/"
        },
        "id": "Ko2dzLn9PeLj",
        "outputId": "546fc114-4dd8-4288-a6ae-89451286d380"
      },
      "execution_count": 26,
      "outputs": [
        {
          "output_type": "execute_result",
          "data": {
            "text/plain": [
              "{1: 0.18669579995144453,\n",
              " 2: 0.6070648215586307,\n",
              " 3: 0.6070648215586307,\n",
              " 4: 0.6068220441854819,\n",
              " 5: 0.5934692886622966,\n",
              " 6: 0.5934692886622966,\n",
              " 7: 0.5931051226025734,\n",
              " 8: 0.5928623452294246,\n",
              " 9: 0.5928623452294246,\n",
              " 10: 0.5890992959456178,\n",
              " 11: 0.5871570769604273,\n",
              " 12: 0.5870356882738529,\n",
              " 13: 0.5870356882738529,\n",
              " 14: 0.10245205146880311,\n",
              " 15: 0.10245205146880311,\n",
              " 16: 0.10245205146880311,\n",
              " 17: 0.10245205146880311,\n",
              " 18: 0.10245205146880311,\n",
              " 19: 0.7142510318038359}"
            ]
          },
          "metadata": {},
          "execution_count": 26
        }
      ]
    },
    {
      "cell_type": "code",
      "source": [
        "# Plot number of features VS. cross-validation scores\n",
        "import matplotlib.pyplot as plt\n",
        "m = np.arange(1,20)\n",
        "plt.figure()\n",
        "plt.xlabel(\"Number of features\")\n",
        "plt.ylabel(\"accuracy\")\n",
        "plt.plot(m, FCMEANS.values(), '-ok',)\n",
        "plt.title(\"FCMEANS\")\n",
        "plt.show()"
      ],
      "metadata": {
        "colab": {
          "base_uri": "https://localhost:8080/",
          "height": 328
        },
        "id": "XF6hRaEVPZTj",
        "outputId": "3c200ef5-4337-4b3d-eeb4-061e5a44a9aa"
      },
      "execution_count": 27,
      "outputs": [
        {
          "output_type": "display_data",
          "data": {
            "text/plain": [
              "<Figure size 320x320 with 1 Axes>"
            ],
            "image/png": "[encoded data removed]"
          },
          "metadata": {}
        }
      ]
    },
    {
      "cell_type": "code",
      "source": [
        "f_performance(FCMEANS)"
      ],
      "metadata": {
        "colab": {
          "base_uri": "https://localhost:8080/",
          "height": 413
        },
        "id": "RLXxW_b7PhS6",
        "outputId": "56ff38d8-d456-494c-cee8-f277be9614e9"
      },
      "execution_count": 28,
      "outputs": [
        {
          "output_type": "stream",
          "name": "stdout",
          "text": [
            "No of feaures which gives best Accuracy 19\n",
            "Best Accuracy using selected features 0.7142510318038359\n"
          ]
        },
        {
          "output_type": "display_data",
          "data": {
            "text/plain": [
              "<Figure size 320x320 with 2 Axes>"
            ],
            "image/png": "[encoded data removed]"
          },
          "metadata": {}
        },
        {
          "output_type": "stream",
          "name": "stdout",
          "text": [
            "Specificity:  0.7157318741450068\n",
            "Sensitivity 0.7025862068965517\n",
            "Precision 0.23882783882783884\n",
            "F1_score 0.35647895024603604\n",
            "0.7091590405207793\n"
          ]
        }
      ]
    },
    {
      "cell_type": "markdown",
      "source": [
        "AdaBoostClassifier"
      ],
      "metadata": {
        "id": "D7QKg6vFfHmC"
      }
    },
    {
      "cell_type": "code",
      "source": [
        "from sklearn.ensemble import AdaBoostClassifier\n",
        "# Create adaboost classifer object\n",
        "abcModel = AdaBoostClassifier(n_estimators=50,\n",
        "                         learning_rate=1)\n",
        "AdaBoost= {}\n",
        "matrix = {}\n",
        "AUC = {}\n",
        "\n",
        "for i in range(1, 20):\n",
        "  abcModel.fit(relief_df[:, 0:i], y_train)\n",
        "  y_pred_X_test= abcModel.predict(X_test[:, 0:i])\n",
        "  accura = accuracy_score(y_test, y_pred_X_test)\n",
        "  AdaBoost[i] = accura\n",
        "  cm = confusion_matrix(y_test, y_pred_X_test)\n",
        "  matrix[i] = cm\n",
        "  auc = metrics.roc_auc_score(y_test, y_pred_X_test)\n",
        "  AUC[i] = auc"
      ],
      "metadata": {
        "id": "hTXvAUBwQgqC"
      },
      "execution_count": 29,
      "outputs": []
    },
    {
      "cell_type": "code",
      "source": [
        "AdaBoost"
      ],
      "metadata": {
        "colab": {
          "base_uri": "https://localhost:8080/"
        },
        "id": "bTbSQLokRPyx",
        "outputId": "aa35481e-3ad1-4825-c6c9-8226e3e2fe27"
      },
      "execution_count": 30,
      "outputs": [
        {
          "output_type": "execute_result",
          "data": {
            "text/plain": [
              "{1: 0.8873512988589464,\n",
              " 2: 0.8869871327992231,\n",
              " 3: 0.887229910172372,\n",
              " 4: 0.8867443554260743,\n",
              " 5: 0.885773245933479,\n",
              " 6: 0.8862588006797767,\n",
              " 7: 0.8861374119932023,\n",
              " 8: 0.8855304685603301,\n",
              " 9: 0.8855304685603301,\n",
              " 10: 0.8861374119932023,\n",
              " 11: 0.8861374119932023,\n",
              " 12: 0.8914785142024764,\n",
              " 13: 0.8915999028890508,\n",
              " 14: 0.9003398883224083,\n",
              " 15: 0.9003398883224083,\n",
              " 16: 0.8996115562029618,\n",
              " 17: 0.9009468317552805,\n",
              " 18: 0.9003398883224083,\n",
              " 19: 0.9002184996358339}"
            ]
          },
          "metadata": {},
          "execution_count": 30
        }
      ]
    },
    {
      "cell_type": "code",
      "source": [
        "# Plot number of features VS. cross-validation scores\n",
        "import matplotlib.pyplot as plt\n",
        "m = np.arange(1,20)\n",
        "plt.figure()\n",
        "plt.xlabel(\"Number of features\")\n",
        "plt.ylabel(\"accuracy\")\n",
        "plt.plot(m, AdaBoost.values(), '-ok',)\n",
        "plt.title(\"AdaBoost\")\n",
        "plt.show()"
      ],
      "metadata": {
        "colab": {
          "base_uri": "https://localhost:8080/",
          "height": 328
        },
        "id": "x6DiRVjFRSlh",
        "outputId": "e9838abe-c2e6-4f66-83f9-b94e3ab7aff8"
      },
      "execution_count": 31,
      "outputs": [
        {
          "output_type": "display_data",
          "data": {
            "text/plain": [
              "<Figure size 320x320 with 1 Axes>"
            ],
            "image/png": "[encoded data removed]"
          },
          "metadata": {}
        }
      ]
    },
    {
      "cell_type": "code",
      "source": [
        "f_performance(AdaBoost)"
      ],
      "metadata": {
        "colab": {
          "base_uri": "https://localhost:8080/",
          "height": 413
        },
        "id": "rxQj56SYRXka",
        "outputId": "8bd3858f-7f27-4c70-99f1-aae4a6832bba"
      },
      "execution_count": 32,
      "outputs": [
        {
          "output_type": "stream",
          "name": "stdout",
          "text": [
            "No of feaures which gives best Accuracy 17\n",
            "Best Accuracy using selected features 0.9009468317552805\n"
          ]
        },
        {
          "output_type": "display_data",
          "data": {
            "text/plain": [
              "<Figure size 320x320 with 2 Axes>"
            ],
            "image/png": "[encoded data removed]"
          },
          "metadata": {}
        },
        {
          "output_type": "stream",
          "name": "stdout",
          "text": [
            "Specificity:  0.9870041039671683\n",
            "Sensitivity 0.22306034482758622\n",
            "Precision 0.6854304635761589\n",
            "F1_score 0.33658536585365856\n",
            "0.6050322243973772\n"
          ]
        }
      ]
    },
    {
      "cell_type": "markdown",
      "source": [
        "GradientBoostingClassifier"
      ],
      "metadata": {
        "id": "Z_zWlNHkfKEr"
      }
    },
    {
      "cell_type": "code",
      "source": [
        "from sklearn.ensemble import GradientBoostingClassifier\n",
        "# Create adaboost classifer object\n",
        "gbc=GradientBoostingClassifier(n_estimators=50,learning_rate=0.05)\n",
        "\n",
        "GradientBoost= {}\n",
        "matrix = {}\n",
        "AUC = {}\n",
        "\n",
        "for i in range(1, 20):\n",
        "  gbc.fit(relief_df[:, 0:i], y_train)\n",
        "  y_pred_X_test= gbc.predict(X_test[:, 0:i])\n",
        "  accura = accuracy_score(y_test, y_pred_X_test)\n",
        "  GradientBoost[i] = accura\n",
        "  cm = confusion_matrix(y_test, y_pred_X_test)\n",
        "  matrix[i] = cm\n",
        "  auc = metrics.roc_auc_score(y_test, y_pred_X_test)\n",
        "  AUC[i] = auc"
      ],
      "metadata": {
        "id": "43C3cQq1SrVr"
      },
      "execution_count": 33,
      "outputs": []
    },
    {
      "cell_type": "code",
      "source": [
        "GradientBoost"
      ],
      "metadata": {
        "colab": {
          "base_uri": "https://localhost:8080/"
        },
        "id": "wkuVZZ3QS_7h",
        "outputId": "11f3c2bc-c02a-49d9-d5b5-cbbd504c0e93"
      },
      "execution_count": 34,
      "outputs": [
        {
          "output_type": "execute_result",
          "data": {
            "text/plain": [
              "{1: 0.8873512988589464,\n",
              " 2: 0.8871085214857976,\n",
              " 3: 0.887229910172372,\n",
              " 4: 0.8869871327992231,\n",
              " 5: 0.8874726875455208,\n",
              " 6: 0.8874726875455208,\n",
              " 7: 0.8874726875455208,\n",
              " 8: 0.887229910172372,\n",
              " 9: 0.887229910172372,\n",
              " 10: 0.8874726875455208,\n",
              " 11: 0.8897790725904345,\n",
              " 12: 0.8914785142024764,\n",
              " 13: 0.8915999028890508,\n",
              " 14: 0.8998543335761107,\n",
              " 15: 0.8994901675163874,\n",
              " 16: 0.8982762806506434,\n",
              " 17: 0.8986404467103666,\n",
              " 18: 0.8982762806506434,\n",
              " 19: 0.8975479485311969}"
            ]
          },
          "metadata": {},
          "execution_count": 34
        }
      ]
    },
    {
      "cell_type": "code",
      "source": [
        "# Plot number of features VS. cross-validation scores\n",
        "import matplotlib.pyplot as plt\n",
        "m = np.arange(1,20)\n",
        "plt.figure()\n",
        "plt.xlabel(\"Number of features\")\n",
        "plt.ylabel(\"accuracy\")\n",
        "plt.plot(m, GradientBoost.values(), '-ok',)\n",
        "plt.title(\"GradientBoost\")\n",
        "plt.show()"
      ],
      "metadata": {
        "colab": {
          "base_uri": "https://localhost:8080/",
          "height": 328
        },
        "id": "jGxdssi_TGSK",
        "outputId": "dd7ab89e-43f0-42db-e485-c292dd969579"
      },
      "execution_count": 35,
      "outputs": [
        {
          "output_type": "display_data",
          "data": {
            "text/plain": [
              "<Figure size 320x320 with 1 Axes>"
            ],
            "image/png": "[encoded data removed]"
          },
          "metadata": {}
        }
      ]
    },
    {
      "cell_type": "code",
      "source": [
        "f_performance(GradientBoost)"
      ],
      "metadata": {
        "colab": {
          "base_uri": "https://localhost:8080/",
          "height": 413
        },
        "id": "Y5mBn1uQTL-6",
        "outputId": "34a0640e-833d-43d1-f1b0-8d96d483e9f0"
      },
      "execution_count": 36,
      "outputs": [
        {
          "output_type": "stream",
          "name": "stdout",
          "text": [
            "No of feaures which gives best Accuracy 14\n",
            "Best Accuracy using selected features 0.8998543335761107\n"
          ]
        },
        {
          "output_type": "display_data",
          "data": {
            "text/plain": [
              "<Figure size 320x320 with 2 Axes>"
            ],
            "image/png": "[encoded data removed]"
          },
          "metadata": {}
        },
        {
          "output_type": "stream",
          "name": "stdout",
          "text": [
            "Specificity:  0.9900136798905609\n",
            "Sensitivity 0.1896551724137931\n",
            "Precision 0.7068273092369478\n",
            "F1_score 0.29906542056074764\n",
            "0.5898344261521771\n"
          ]
        }
      ]
    },
    {
      "cell_type": "code",
      "source": [
        "from xgboost import XGBClassifier\n",
        "        \n",
        "xgb_clf = XGBClassifier(n_estimators=50,learning_rate=0.05)\n",
        "\n",
        "XGBoost= {}\n",
        "matrix = {}\n",
        "AUC = {}\n",
        "\n",
        "for i in range(1, 20):\n",
        "  xgb_clf.fit(relief_df[:, 0:i], y_train)\n",
        "  y_pred_X_test= xgb_clf.predict(X_test[:, 0:i])\n",
        "  accura = accuracy_score(y_test, y_pred_X_test)\n",
        "  XGBoost[i] = accura\n",
        "  cm = confusion_matrix(y_test, y_pred_X_test)\n",
        "  matrix[i] = cm\n",
        "  auc = metrics.roc_auc_score(y_test, y_pred_X_test)\n",
        "  AUC[i] = auc"
      ],
      "metadata": {
        "id": "GVerqDmuT5wb"
      },
      "execution_count": 37,
      "outputs": []
    },
    {
      "cell_type": "code",
      "source": [
        "XGBoost"
      ],
      "metadata": {
        "colab": {
          "base_uri": "https://localhost:8080/"
        },
        "id": "NfFrM_FxU1dq",
        "outputId": "245b2796-ff7c-45cf-a3d1-8b6665bcb6e7"
      },
      "execution_count": 38,
      "outputs": [
        {
          "output_type": "execute_result",
          "data": {
            "text/plain": [
              "{1: 0.8873512988589464,\n",
              " 2: 0.8860160233066279,\n",
              " 3: 0.8865015780529255,\n",
              " 4: 0.8874726875455208,\n",
              " 5: 0.8868657441126487,\n",
              " 6: 0.8865015780529255,\n",
              " 7: 0.8863801893663511,\n",
              " 8: 0.8860160233066279,\n",
              " 9: 0.8861374119932023,\n",
              " 10: 0.8874726875455208,\n",
              " 11: 0.892571012381646,\n",
              " 12: 0.8922068463219228,\n",
              " 13: 0.8939062879339645,\n",
              " 14: 0.898761835396941,\n",
              " 15: 0.8988832240835154,\n",
              " 16: 0.9009468317552805,\n",
              " 17: 0.9005826656955572,\n",
              " 18: 0.9013109978150037,\n",
              " 19: 0.9021607186210245}"
            ]
          },
          "metadata": {},
          "execution_count": 38
        }
      ]
    },
    {
      "cell_type": "code",
      "source": [
        "# Plot number of features VS. cross-validation scores\n",
        "import matplotlib.pyplot as plt\n",
        "m = np.arange(1,20)\n",
        "plt.figure()\n",
        "plt.xlabel(\"Number of features\")\n",
        "plt.ylabel(\"accuracy\")\n",
        "plt.plot(m, XGBoost.values(), '-ok',)\n",
        "plt.title(\"XGBoost\")\n",
        "plt.show()"
      ],
      "metadata": {
        "colab": {
          "base_uri": "https://localhost:8080/",
          "height": 328
        },
        "id": "hFOwKMAqU5TK",
        "outputId": "bbbffe93-6557-422b-8b14-6ea83d6b8969"
      },
      "execution_count": 39,
      "outputs": [
        {
          "output_type": "display_data",
          "data": {
            "text/plain": [
              "<Figure size 320x320 with 1 Axes>"
            ],
            "image/png": "[encoded data removed]"
          },
          "metadata": {}
        }
      ]
    },
    {
      "cell_type": "code",
      "source": [
        "f_performance(XGBoost)"
      ],
      "metadata": {
        "colab": {
          "base_uri": "https://localhost:8080/",
          "height": 413
        },
        "id": "RAH0BbofU_la",
        "outputId": "1ffd7fae-b63a-4853-883d-bdc5e508b935"
      },
      "execution_count": 40,
      "outputs": [
        {
          "output_type": "stream",
          "name": "stdout",
          "text": [
            "No of feaures which gives best Accuracy 19\n",
            "Best Accuracy using selected features 0.9021607186210245\n"
          ]
        },
        {
          "output_type": "display_data",
          "data": {
            "text/plain": [
              "<Figure size 320x320 with 2 Axes>"
            ],
            "image/png": "[encoded data removed]"
          },
          "metadata": {}
        },
        {
          "output_type": "stream",
          "name": "stdout",
          "text": [
            "Specificity:  0.986046511627907\n",
            "Sensitivity 0.2413793103448276\n",
            "Precision 0.6871165644171779\n",
            "F1_score 0.3572567783094099\n",
            "0.6137129109863673\n"
          ]
        }
      ]
    },
    {
      "cell_type": "code",
      "source": [
        "cycol = cycle('bgrcmk')\n",
        "def plot_combined_accuracy():\n",
        "    m=np.arange(1,20)\n",
        "    plt.xlabel(\"Features\",fontsize=18)\n",
        "    plt.ylabel(\"accuracy\",fontsize=18)\n",
        "    plt.plot(SVM.keys(), SVM.values(), c=next(cycol), label=\"SVM\");\n",
        "    plt.plot(KMEANS.keys(), KMEANS.values(),  c=next(cycol), label=\"KMEANS\");\n",
        "    plt.plot(AdaBoost.keys(), AdaBoost.values(),  c=next(cycol), label=\"AdaBoost\");\n",
        "    plt.plot(GradientBoost.keys(), GradientBoost.values(),  c=next(cycol), label=\"GradientBoost\");\n",
        "    plt.plot(XGBoost.keys(), XGBoost.values(),  c=next(cycol), label=\"XGBoost\");\n",
        "    plt.legend()\n",
        "    plt.show()"
      ],
      "metadata": {
        "id": "6bztzrt_5DXT"
      },
      "execution_count": 41,
      "outputs": []
    },
    {
      "cell_type": "code",
      "source": [
        "plot_combined_accuracy()"
      ],
      "metadata": {
        "colab": {
          "base_uri": "https://localhost:8080/",
          "height": 320
        },
        "id": "mwv8eicm766C",
        "outputId": "74a5360c-efe8-4460-eddc-fa05caaab1b6"
      },
      "execution_count": 42,
      "outputs": [
        {
          "output_type": "display_data",
          "data": {
            "text/plain": [
              "<Figure size 320x320 with 1 Axes>"
            ],
            "image/png": "[encoded data removed]"
          },
          "metadata": {}
        }
      ]
    },
    {
      "cell_type": "markdown",
      "source": [
        "HMM"
      ],
      "metadata": {
        "id": "K_yZjuou_fDj"
      }
    },
    {
      "cell_type": "code",
      "source": [
        "class0 = df[df['y'] == 0]\n",
        "class1 = df[df['y'] == 1]\n",
        "\n",
        "x_class0 = class0.drop('y', axis=1)\n",
        "y_class0 = class0[['y']]\n",
        "x_class0\n",
        "\n",
        "x_class1 = class1.drop('y', axis=1)\n",
        "y_class1 = class1[['y']]\n",
        "x_class1\n",
        "\n",
        "x_trainc0, x_testc0, y_trainc0, y_testc0 = train_test_split(x_class0, y_class0, test_size=0.2, random_state=0)\n",
        "x_trainc1, x_testc1, y_trainc1, y_testc1  = train_test_split(x_class1, y_class1, test_size=0.2, random_state=0)\n",
        "\n",
        "model0=GaussianHMM(n_components=1, algorithm=\"viterbi\", covariance_type = \"diag\",random_state=21, n_iter = 30)\n",
        "model1=GaussianHMM(n_components=1, algorithm=\"viterbi\", covariance_type = \"diag\",random_state=21, n_iter = 30)\n",
        "\n",
        "x_test = np.concatenate((x_testc0, x_testc1))\n",
        "y_test = np.concatenate((y_testc0, y_testc1))\n",
        "\n",
        "pred_prob0 = model0.predict_proba(x_test)\n",
        "pred_prob1 = model1.predict_proba(x_test)\n",
        "\n",
        "predict_proba_c0 = np.max(model0.predict_proba(x_test), axis=1)\n",
        "predict_proba_c1 = np.max(model1.predict_proba(x_test), axis=1)\n",
        "\n",
        "pred_prob = np.column_stack((predict_proba_c0,predict_proba_c1,predict_proba_c2,predict_proba_c0))"
      ],
      "metadata": {
        "id": "ZjjUVSn7AkVZ"
      },
      "execution_count": null,
      "outputs": []
    },
    {
      "cell_type": "code",
      "source": [
        "HMM= {}\n",
        "matrix = {}\n",
        "AUC = {}\n",
        "\n",
        "for i in range(1, 20):\n",
        "  model0.fit(relief_df[:, 0:i], y_train)\n",
        "  y_pred_X_test= model0.predict(X_test[:, 0:i])\n",
        "  accura = accuracy_score(y_test, y_pred_X_test)\n",
        "  HMM[i] = accura\n",
        "  cm = confusion_matrix(y_test, y_pred_X_test)\n",
        "  matrix[i] = cm\n",
        "  auc = metrics.roc_auc_score(y_test, y_pred_X_test)\n",
        "  AUC[i] = auc\n",
        "\n",
        "HMM"
      ],
      "metadata": {
        "colab": {
          "base_uri": "https://localhost:8080/"
        },
        "id": "YZsA7uaC_iHC",
        "outputId": "9376965c-e83a-4739-f3cc-ca637795b2d9"
      },
      "execution_count": 20,
      "outputs": [
        {
          "output_type": "execute_result",
          "data": {
            "text/plain": [
              "{1: 0.8865015780529255,\n",
              " 2: 0.8861374119932023,\n",
              " 3: 0.8866229667394999,\n",
              " 4: 0.887229910172372,\n",
              " 5: 0.887229910172372,\n",
              " 6: 0.887229910172372,\n",
              " 7: 0.8869871327992231,\n",
              " 8: 0.8866229667394999,\n",
              " 9: 0.8868657441126487,\n",
              " 10: 0.8875940762320952,\n",
              " 11: 0.888443797038116,\n",
              " 12: 0.8892935178441369,\n",
              " 13: 0.8888079630978393,\n",
              " 14: 0.8971837824714737,\n",
              " 15: 0.8971837824714737,\n",
              " 16: 0.898154891964069,\n",
              " 17: 0.898761835396941,\n",
              " 18: 0.8983976693372178,\n",
              " 19: 0.8992473901432386}"
            ]
          },
          "metadata": {},
          "execution_count": 20
        }
      ]
    },
    {
      "cell_type": "code",
      "source": [
        "# Plot number of features VS. cross-validation scores\n",
        "import matplotlib.pyplot as plt\n",
        "m = np.arange(1,20)\n",
        "plt.figure()\n",
        "plt.xlabel(\"Number of features\")\n",
        "plt.ylabel(\"accuracy\")\n",
        "plt.plot(m, HMM.values(), '-ok',)\n",
        "plt.title(\"HMM\")\n",
        "plt.show()"
      ],
      "metadata": {
        "colab": {
          "base_uri": "https://localhost:8080/",
          "height": 328
        },
        "id": "dV76ZRqXARNv",
        "outputId": "247a971b-7746-48bd-cd3b-c149ec494201"
      },
      "execution_count": 23,
      "outputs": [
        {
          "output_type": "display_data",
          "data": {
            "text/plain": [
              "<Figure size 320x320 with 1 Axes>"
            ],
            "image/png": "[encoded data removed]"
          },
          "metadata": {}
        }
      ]
    },
    {
      "cell_type": "code",
      "source": [
        "f_performance(HMM)"
      ],
      "metadata": {
        "colab": {
          "base_uri": "https://localhost:8080/",
          "height": 413
        },
        "id": "ATbcD-KtAYhl",
        "outputId": "fa810043-7c64-4cd9-e713-a31eafd3909f"
      },
      "execution_count": 22,
      "outputs": [
        {
          "output_type": "stream",
          "name": "stdout",
          "text": [
            "No of feaures which gives best Accuracy 19\n",
            "Best Accuracy using selected features 0.8992473901432386\n"
          ]
        },
        {
          "output_type": "display_data",
          "data": {
            "text/plain": [
              "<Figure size 320x320 with 2 Axes>"
            ],
            "image/png": "[encoded data removed]"
          },
          "metadata": {}
        },
        {
          "output_type": "stream",
          "name": "stdout",
          "text": [
            "Specificity:  0.9859097127222982\n",
            "Sensitivity 0.2165948275862069\n",
            "Precision 0.6611842105263158\n",
            "F1_score 0.3262987012987013\n",
            "0.6012522701542525\n"
          ]
        }
      ]
    }
  ]
}